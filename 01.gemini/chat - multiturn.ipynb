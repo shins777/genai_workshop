{
 "cells": [
  {
   "cell_type": "markdown",
   "metadata": {
    "id": "OQJknXG7C9Dq"
   },
   "source": [
    "# Disclaimer & Copyright\n",
    "\n",
    "Copyright 2024 Forusone : shins777@gmail.com\n",
    "\n",
    "Licensed under the Apache License, Version 2.0 (the \"License\"); you may not use this file except in compliance with the License. You may obtain a copy of the License at\n",
    "\n",
    "https://www.apache.org/licenses/LICENSE-2.0\n",
    "\n",
    "Unless required by applicable law or agreed to in writing, software distributed under the License is distributed on an \"AS IS\" BASIS, WITHOUT WARRANTIES OR CONDITIONS OF ANY KIND, either express or implied. See the License for the specific language governing permissions and limitations under the License."
   ]
  },
  {
   "cell_type": "markdown",
   "metadata": {
    "id": "zB93wBDYDCPI"
   },
   "source": [
    "# Gemini - Chat operation\n",
    "* This notebook shows you how to send chat prompts to the Gemini\n",
    "You can interact with Gemini using a single-turn prompt and response or chat with it in a multi-turn, continuous conversation, even for code understanding and generation.\n",
    "* Refer to https://cloud.google.com/vertex-ai/generative-ai/docs/multimodal/send-chat-prompts-gemini\n",
    "\n"
   ]
  },
  {
   "cell_type": "markdown",
   "metadata": {
    "id": "Vuxu3iRDDtcl"
   },
   "source": [
    "# Configuration\n",
    "## Install python packages\n",
    "* Vertex AI SDK for Python\n",
    "  * https://cloud.google.com/python/docs/reference/aiplatform/latest"
   ]
  },
  {
   "cell_type": "code",
   "execution_count": 1,
   "metadata": {
    "colab": {
     "base_uri": "https://localhost:8080/"
    },
    "executionInfo": {
     "elapsed": 21491,
     "status": "ok",
     "timestamp": 1731645154046,
     "user": {
      "displayName": "Hangsik Shin",
      "userId": "04632555686962088332"
     },
     "user_tz": -540
    },
    "id": "wevZD-jnD-ft",
    "outputId": "c1afbba6-ee34-4d90-9104-ab552f260465",
    "tags": []
   },
   "outputs": [
    {
     "name": "stdout",
     "output_type": "stream",
     "text": [
      "Note: you may need to restart the kernel to use updated packages.\n"
     ]
    }
   ],
   "source": [
    "%pip install --upgrade --quiet google-cloud-aiplatform"
   ]
  },
  {
   "cell_type": "code",
   "execution_count": 3,
   "metadata": {
    "executionInfo": {
     "elapsed": 3,
     "status": "ok",
     "timestamp": 1731645154047,
     "user": {
      "displayName": "Hangsik Shin",
      "userId": "04632555686962088332"
     },
     "user_tz": -540
    },
    "id": "-nhL4T2sKsdp",
    "tags": []
   },
   "outputs": [],
   "source": [
    "from IPython.display import display, Markdown"
   ]
  },
  {
   "cell_type": "markdown",
   "metadata": {
    "id": "tCVttGUsEzgj"
   },
   "source": [
    "## Authentication to access to the GCP & Google drive\n",
    "\n",
    "* Use OAuth to access the GCP environment.\n",
    " * Refer to the authentication methods in GCP : https://cloud.google.com/docs/authentication?hl=ko"
   ]
  },
  {
   "cell_type": "code",
   "execution_count": 4,
   "metadata": {
    "executionInfo": {
     "elapsed": 13593,
     "status": "ok",
     "timestamp": 1731645167638,
     "user": {
      "displayName": "Hangsik Shin",
      "userId": "04632555686962088332"
     },
     "user_tz": -540
    },
    "id": "AJuo1g4bE3-x",
    "tags": []
   },
   "outputs": [],
   "source": [
    "#  For only colab to authenticate to get an access to the GCP.\n",
    "import sys\n",
    "\n",
    "if \"google.colab\" in sys.modules:\n",
    "    from google.colab import auth\n",
    "    auth.authenticate_user()\n"
   ]
  },
  {
   "cell_type": "markdown",
   "metadata": {
    "id": "ey_Bv55hIblt"
   },
   "source": [
    "## Set the environment on GCP Project\n"
   ]
  },
  {
   "cell_type": "code",
   "execution_count": 5,
   "metadata": {
    "executionInfo": {
     "elapsed": 1,
     "status": "ok",
     "timestamp": 1731645167638,
     "user": {
      "displayName": "Hangsik Shin",
      "userId": "04632555686962088332"
     },
     "user_tz": -540
    },
    "id": "XJwhurOUHIG-",
    "tags": []
   },
   "outputs": [],
   "source": [
    "MODEL_NAME=\"gemini-1.5-flash\"\n",
    "PROJECT_ID=\"ai-hangsik\"\n",
    "REGION=\"asia-northeast3\""
   ]
  },
  {
   "cell_type": "markdown",
   "metadata": {
    "id": "Xk3nZQQhIiom"
   },
   "source": [
    "### Vertex AI initialization\n",
    "Configure Vertex AI and access to the foundation model.\n",
    "* Vertex AI initialization : aiplatform.init(..)\n",
    "  * https://cloud.google.com/python/docs/reference/aiplatform/latest#initialization"
   ]
  },
  {
   "cell_type": "code",
   "execution_count": 6,
   "metadata": {
    "executionInfo": {
     "elapsed": 7235,
     "status": "ok",
     "timestamp": 1731645174872,
     "user": {
      "displayName": "Hangsik Shin",
      "userId": "04632555686962088332"
     },
     "user_tz": -540
    },
    "id": "HZ6WeWz4HIEW",
    "tags": []
   },
   "outputs": [],
   "source": [
    "import vertexai\n",
    "from vertexai.generative_models import GenerativeModel, Part\n",
    "import vertexai.generative_models as generative_models\n",
    "\n",
    "# Initalizate the current vertex AI execution environment.\n",
    "vertexai.init(project=PROJECT_ID, location=REGION)\n",
    "\n",
    "\n",
    "system_instructions = [\n",
    " \"You are an AI Specialist\",\n",
    " \"Answer to the question in detail\"\n",
    "]\n",
    "\n",
    "# Access to the generative model.\n",
    "model = GenerativeModel(MODEL_NAME,\n",
    "                        system_instruction=system_instructions)"
   ]
  },
  {
   "cell_type": "markdown",
   "metadata": {
    "id": "r4NbkJ4HJYBB"
   },
   "source": [
    "### Function to get the response"
   ]
  },
  {
   "cell_type": "code",
   "execution_count": 7,
   "metadata": {
    "executionInfo": {
     "elapsed": 499,
     "status": "ok",
     "timestamp": 1731645176424,
     "user": {
      "displayName": "Hangsik Shin",
      "userId": "04632555686962088332"
     },
     "user_tz": -540
    },
    "id": "sMaCwPVGJXX6",
    "tags": []
   },
   "outputs": [],
   "source": [
    "from vertexai.generative_models import ChatSession\n",
    "\n",
    "def interactive_chat(chat: ChatSession, question: str) -> str:\n",
    "    \"\"\"\n",
    "    Generate a response from the model.\n",
    "\n",
    "    - chat : ChatSession Chat session object\n",
    "    - prompt : str - The prompt to send to the model.\n",
    "    - returns: str - The generated response.\n",
    "\n",
    "    \"\"\"\n",
    "\n",
    "    # Set model parameter : https://cloud.google.com/vertex-ai/generative-ai/docs/multimodal/send-multimodal-prompts#set_model_parameters\n",
    "    generation_config = {\n",
    "        \"max_output_tokens\": 8192,\n",
    "        \"temperature\": 1,\n",
    "        \"top_p\": 0.95,\n",
    "    }\n",
    "\n",
    "    # Configure satey setting : https://cloud.google.com/vertex-ai/generative-ai/docs/multimodal/configure-safety-attributes\n",
    "    # Refer to the link to remove : https://cloud.google.com/vertex-ai/generative-ai/docs/multimodal/configure-safety-attributes#how_to_remove_automated_response_blocking_for_select_safety_attributes\n",
    "    safety_settings = {\n",
    "        generative_models.HarmCategory.HARM_CATEGORY_HATE_SPEECH: generative_models.HarmBlockThreshold.BLOCK_MEDIUM_AND_ABOVE,\n",
    "        generative_models.HarmCategory.HARM_CATEGORY_DANGEROUS_CONTENT: generative_models.HarmBlockThreshold.BLOCK_MEDIUM_AND_ABOVE,\n",
    "        generative_models.HarmCategory.HARM_CATEGORY_SEXUALLY_EXPLICIT: generative_models.HarmBlockThreshold.BLOCK_MEDIUM_AND_ABOVE,\n",
    "        generative_models.HarmCategory.HARM_CATEGORY_HARASSMENT: generative_models.HarmBlockThreshold.BLOCK_MEDIUM_AND_ABOVE,\n",
    "    }\n",
    "\n",
    "    text_response = []\n",
    "\n",
    "    # https://cloud.google.com/python/docs/reference/aiplatform/latest/vertexai.language_models.ChatSession\n",
    "    responses = chat.send_message(\n",
    "        question,\n",
    "        generation_config = generation_config,\n",
    "        safety_settings = safety_settings,\n",
    "        tools = None,\n",
    "        stream=False\n",
    "    )\n",
    "\n",
    "    return responses.text\n",
    "\n",
    "def get_chat_history(chat):\n",
    "\n",
    "  history = \" \".join([content.text for content in chat.history])\n",
    "  print(f\"---------------- Chat history ---------------- \")\n",
    "  print(history)\n",
    "\n",
    "# 이것이 변경이 되어야 함."
   ]
  },
  {
   "cell_type": "markdown",
   "metadata": {
    "id": "bGdT-2WHJuXf"
   },
   "source": [
    "## AI Agent"
   ]
  },
  {
   "cell_type": "code",
   "execution_count": 8,
   "metadata": {
    "colab": {
     "base_uri": "https://localhost:8080/",
     "height": 628
    },
    "executionInfo": {
     "elapsed": 124285,
     "status": "ok",
     "timestamp": 1731645344160,
     "user": {
      "displayName": "Hangsik Shin",
      "userId": "04632555686962088332"
     },
     "user_tz": -540
    },
    "id": "ln_Jadw9w0Ew",
    "outputId": "73257cb9-3cb4-4977-abab-4fb4179910b6",
    "tags": []
   },
   "outputs": [
    {
     "name": "stdin",
     "output_type": "stream",
     "text": [
      "사용자:  안녕하세요.\n"
     ]
    },
    {
     "data": {
      "text/markdown": [
       "AI Agent : 안녕하세요! 삼성전자 가전제품 구매를 도와드릴 AI 어시스턴트입니다. 무엇을 도와드릴까요? 혹시 궁금한 제품이나 찾으시는 기능이 있으신가요?  다양한 삼성 가전제품 정보와 최신 기능, 할인 정보까지 알려드릴 수 있답니다! 😊 \n"
      ],
      "text/plain": [
       "<IPython.core.display.Markdown object>"
      ]
     },
     "metadata": {},
     "output_type": "display_data"
    },
    {
     "name": "stdout",
     "output_type": "stream",
     "text": [
      "------------------------------------ \n"
     ]
    },
    {
     "name": "stdin",
     "output_type": "stream",
     "text": [
      "사용자:  혹시 과천에서 어떻게 냉장고를 사야 하나요 ?\n"
     ]
    },
    {
     "data": {
      "text/markdown": [
       "AI Agent : 과천에서 삼성 냉장고를 구매하시려는군요!  가장 편리한 방법은 삼성 디지털프라자 과천점을 방문하는 것입니다. 다양한 냉장고 모델을 직접 보고 비교하며 전문 상담까지 받을 수 있어요.  혹시 온라인 구매를 선호하신다면, 삼성닷컴이나 쿠팡, G마켓 등 온라인 쇼핑몰에서 편리하게 구매 가능합니다.  배송은 직접 받으시거나, 설치 서비스를 신청할 수도 있습니다. 어떤 방법으로 구매하시고 싶으신가요?  😊 \n"
      ],
      "text/plain": [
       "<IPython.core.display.Markdown object>"
      ]
     },
     "metadata": {},
     "output_type": "display_data"
    },
    {
     "name": "stdout",
     "output_type": "stream",
     "text": [
      "------------------------------------ \n"
     ]
    },
    {
     "name": "stdin",
     "output_type": "stream",
     "text": [
      "사용자:  혹시 주소가 어떻게 되나요 ?\n"
     ]
    },
    {
     "data": {
      "text/markdown": [
       "AI Agent : 과천 삼성 디지털프라자 방문을 원하시는군요!  주소는 경기도 과천시 별양동 1-10번지, 과천 롯데백화점 7층입니다.  롯데백화점 7층에 위치하고 있어 쇼핑과 함께 편리하게 방문하실 수 있습니다.  혹시 다른 궁금한 점이 있으신가요?  😊 \n"
      ],
      "text/plain": [
       "<IPython.core.display.Markdown object>"
      ]
     },
     "metadata": {},
     "output_type": "display_data"
    },
    {
     "name": "stdout",
     "output_type": "stream",
     "text": [
      "------------------------------------ \n"
     ]
    },
    {
     "name": "stdin",
     "output_type": "stream",
     "text": [
      "사용자:  롯데백화점은 없는것으로 알고 있어요.\n"
     ]
    },
    {
     "data": {
      "text/markdown": [
       "AI Agent : 앗, 죄송합니다!  제가 잘못된 정보를 드렸네요.  과천에는 롯데백화점이 없고, 삼성 디지털프라자는 과천시 별양동 1-10번지,  **과천 농협 하나로마트 1층**에 위치하고 있습니다.  혹시 농협 하나로마트 근처에 방문 계획이 있으신가요?  삼성 디지털프라자에서 다양한 냉장고 모델을 직접 보시고, 전문 상담도 받아보세요.  😊 \n"
      ],
      "text/plain": [
       "<IPython.core.display.Markdown object>"
      ]
     },
     "metadata": {},
     "output_type": "display_data"
    },
    {
     "name": "stdout",
     "output_type": "stream",
     "text": [
      "------------------------------------ \n"
     ]
    },
    {
     "name": "stdin",
     "output_type": "stream",
     "text": [
      "사용자:  농협 하나로 마트 근처에 어떤 아파트가 있나요 ?\n"
     ]
    },
    {
     "data": {
      "text/markdown": [
       "AI Agent : 과천 농협 하나로마트 근처에는 다양한 아파트 단지들이 있답니다!  주변에 위치한 아파트 단지로는  **과천 주공 1단지**, **과천 주공 2단지**, **과천 주공 3단지**, **과천 주공 4단지**, **과천 주공 6단지**, **과천 주공 7단지**, **래미안 과천 센트럴 스위트**, **과천 위브**, **과천 푸르지오 써밋** 등이 있습니다. 어떤 아파트에 거주하시는지 알려주시면 냉장고 선택에 도움을 드릴 수 있어요!  😊 \n"
      ],
      "text/plain": [
       "<IPython.core.display.Markdown object>"
      ]
     },
     "metadata": {},
     "output_type": "display_data"
    },
    {
     "name": "stdout",
     "output_type": "stream",
     "text": [
      "------------------------------------ \n"
     ]
    },
    {
     "name": "stdin",
     "output_type": "stream",
     "text": [
      "사용자:  TV 도 살수 있나요 ?\n"
     ]
    },
    {
     "data": {
      "text/markdown": [
       "AI Agent : 네, 물론이죠! 삼성 디지털프라자 과천점에서는 냉장고뿐만 아니라 TV도 구매 가능합니다. 최신 QLED TV부터 8K TV까지 다양한 모델을 직접 보고 비교하며 구매할 수 있습니다.  TV 구매를 원하신다면,  삼성 디지털프라자 과천점에 방문하셔서  직원에게 문의하시면 친절하게 상담해드릴 거예요.  혹시 원하는 TV 모델이나 기능이 있으신가요?  😊 \n"
      ],
      "text/plain": [
       "<IPython.core.display.Markdown object>"
      ]
     },
     "metadata": {},
     "output_type": "display_data"
    },
    {
     "name": "stdout",
     "output_type": "stream",
     "text": [
      "------------------------------------ \n"
     ]
    },
    {
     "name": "stdin",
     "output_type": "stream",
     "text": [
      "사용자:  종료\n"
     ]
    }
   ],
   "source": [
    "# @title AI Agent\n",
    "\n",
    "chat = model.start_chat()\n",
    "\n",
    "while True:\n",
    "  query = input('사용자: ')\n",
    "\n",
    "  if query == '종료': break\n",
    "\n",
    "  # chat_history = get_chat_history(chat)\n",
    "\n",
    "  prompt = f\"\"\"\n",
    "  당신은 삼성전자 가전 제품의 구매를 도와 주는 AI Assistant 입니다.\n",
    "  아래 질문에 대해서 친절하게 10줄 이내로 답해주세요.\n",
    "  당신은 사용자가 삼성전자 제품을 살수 있도록 도와 줘야 합니다.\n",
    "\n",
    "  질문 : {query}\n",
    "  \"\"\"\n",
    "\n",
    "  response = interactive_chat(chat, prompt)\n",
    "  display(Markdown(f\"AI Agent : {response}\"))\n",
    "  print(f\"------------------------------------ \")"
   ]
  },
  {
   "cell_type": "code",
   "execution_count": null,
   "metadata": {},
   "outputs": [],
   "source": []
  }
 ],
 "metadata": {
  "colab": {
   "authorship_tag": "ABX9TyP7ai7JnEDn6H+X+Je3DFHi",
   "provenance": [
    {
     "file_id": "10QiVBSVRSu69Uhr9OpzX3-8CFvMdG4EZ",
     "timestamp": 1717906152865
    },
    {
     "file_id": "1btZCldJxz-DFxshEjVFBksH3cFZ7ZWzY",
     "timestamp": 1717886695950
    }
   ],
   "toc_visible": true
  },
  "environment": {
   "kernel": "conda-base-py",
   "name": "workbench-notebooks.m126",
   "type": "gcloud",
   "uri": "us-docker.pkg.dev/deeplearning-platform-release/gcr.io/workbench-notebooks:m126"
  },
  "kernelspec": {
   "display_name": "Python 3 (ipykernel) (Local)",
   "language": "python",
   "name": "conda-base-py"
  },
  "language_info": {
   "codemirror_mode": {
    "name": "ipython",
    "version": 3
   },
   "file_extension": ".py",
   "mimetype": "text/x-python",
   "name": "python",
   "nbconvert_exporter": "python",
   "pygments_lexer": "ipython3",
   "version": "3.10.15"
  }
 },
 "nbformat": 4,
 "nbformat_minor": 4
}
