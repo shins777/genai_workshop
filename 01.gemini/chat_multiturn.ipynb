{
 "cells": [
  {
   "cell_type": "code",
   "execution_count": 1,
   "metadata": {
    "tags": []
   },
   "outputs": [],
   "source": [
    "# Copyright 2024 Forusone(shins777@gmail.com)\n",
    "#\n",
    "# Licensed under the Apache License, Version 2.0 (the \"License\");\n",
    "# you may not use this file except in compliance with the License.\n",
    "# You may obtain a copy of the License at\n",
    "#\n",
    "#     https://www.apache.org/licenses/LICENSE-2.0\n",
    "#\n",
    "# Unless required by applicable law or agreed to in writing, software\n",
    "# distributed under the License is distributed on an \"AS IS\" BASIS,\n",
    "# WITHOUT WARRANTIES OR CONDITIONS OF ANY KIND, either express or implied.\n",
    "# See the License for the specific language governing permissions and\n",
    "# limitations under the License."
   ]
  },
  {
   "cell_type": "markdown",
   "metadata": {
    "id": "zB93wBDYDCPI"
   },
   "source": [
    "# Gemini - Chat operation\n",
    "* This notebook shows you how to send chat prompts to the Gemini\n",
    "* Refer to https://cloud.google.com/vertex-ai/generative-ai/docs/multimodal/send-chat-prompts-gemini\n",
    "\n"
   ]
  },
  {
   "cell_type": "markdown",
   "metadata": {
    "id": "Vuxu3iRDDtcl"
   },
   "source": [
    "## Set environment\n",
    "### Package install\n",
    "* [google-cloud-aiplatform](https://cloud.google.com/python/docs/reference/aiplatform/latest)"
   ]
  },
  {
   "cell_type": "code",
   "execution_count": 2,
   "metadata": {
    "colab": {
     "base_uri": "https://localhost:8080/"
    },
    "executionInfo": {
     "elapsed": 21491,
     "status": "ok",
     "timestamp": 1731645154046,
     "user": {
      "displayName": "Hangsik Shin",
      "userId": "04632555686962088332"
     },
     "user_tz": -540
    },
    "id": "wevZD-jnD-ft",
    "outputId": "c1afbba6-ee34-4d90-9104-ab552f260465",
    "tags": []
   },
   "outputs": [],
   "source": [
    "!pip install --upgrade --quiet --user google-cloud-aiplatform"
   ]
  },
  {
   "cell_type": "markdown",
   "metadata": {
    "id": "tCVttGUsEzgj"
   },
   "source": [
    "## Authentication to access to GCP\n",
    "\n",
    "* Only Colab in Google Drive\n",
    "* No need to do this process if in Colab Enteprise on Vertex AI.\n",
    "* Refer to the authentication methods in GCP : https://cloud.google.com/docs/authentication?hl=ko"
   ]
  },
  {
   "cell_type": "code",
   "execution_count": 3,
   "metadata": {
    "executionInfo": {
     "elapsed": 13593,
     "status": "ok",
     "timestamp": 1731645167638,
     "user": {
      "displayName": "Hangsik Shin",
      "userId": "04632555686962088332"
     },
     "user_tz": -540
    },
    "id": "AJuo1g4bE3-x",
    "tags": []
   },
   "outputs": [],
   "source": [
    "# To use markdown for output data from LLM\n",
    "from IPython.display import display, Markdown\n",
    "\n",
    "# Use OAuth to access the GCP environment.\n",
    "import sys\n",
    "if \"google.colab\" in sys.modules:\n",
    "    from google.colab import auth\n",
    "    auth.authenticate_user()"
   ]
  },
  {
   "cell_type": "markdown",
   "metadata": {
    "tags": []
   },
   "source": [
    "## Lab Execution"
   ]
  },
  {
   "cell_type": "markdown",
   "metadata": {
    "id": "ey_Bv55hIblt"
   },
   "source": [
    "### Define constants\n"
   ]
  },
  {
   "cell_type": "code",
   "execution_count": 4,
   "metadata": {
    "executionInfo": {
     "elapsed": 1,
     "status": "ok",
     "timestamp": 1731645167638,
     "user": {
      "displayName": "Hangsik Shin",
      "userId": "04632555686962088332"
     },
     "user_tz": -540
    },
    "id": "XJwhurOUHIG-",
    "tags": []
   },
   "outputs": [],
   "source": [
    "MODEL_NAME=\"gemini-1.5-flash\"\n",
    "PROJECT_ID=\"ai-hangsik\"\n",
    "REGION=\"us-central1\""
   ]
  },
  {
   "cell_type": "markdown",
   "metadata": {
    "tags": []
   },
   "source": [
    "### Import libraries"
   ]
  },
  {
   "cell_type": "code",
   "execution_count": 5,
   "metadata": {
    "tags": []
   },
   "outputs": [],
   "source": [
    "import vertexai\n",
    "\n",
    "from vertexai.generative_models import (\n",
    "    GenerationConfig,\n",
    "    GenerativeModel,\n",
    "    ChatSession,\n",
    "    HarmBlockThreshold,\n",
    "    HarmCategory,\n",
    "    GenerationResponse,\n",
    "    Part,\n",
    ")"
   ]
  },
  {
   "cell_type": "markdown",
   "metadata": {
    "id": "Xk3nZQQhIiom"
   },
   "source": [
    "### Initialize Vertex AI\n",
    "* [aiplatform.init](https://cloud.google.com/python/docs/reference/aiplatform/latest#initialization)"
   ]
  },
  {
   "cell_type": "code",
   "execution_count": 6,
   "metadata": {
    "tags": []
   },
   "outputs": [],
   "source": [
    "# https://cloud.google.com/python/docs/reference/aiplatform/latest#initialization\n",
    "vertexai.init(project=PROJECT_ID, location=REGION)\n",
    "\n",
    "\n",
    "system_instructions = [\n",
    " \"당신은 AI 스페셜리스트입니다.\",\n",
    " \"질문 내용에 상세하게 답해주세요. 가급적 표를 통해서 간략하게 답해주세요.\"\n",
    "]\n",
    "\n",
    "# https://cloud.google.com/vertex-ai/generative-ai/docs/reference/python/latest/vertexai.generative_models.GenerativeModel\n",
    "model = GenerativeModel(MODEL_NAME,\n",
    "                        system_instruction=system_instructions)\n"
   ]
  },
  {
   "cell_type": "markdown",
   "metadata": {
    "id": "r4NbkJ4HJYBB"
   },
   "source": [
    "### Function to get the response"
   ]
  },
  {
   "cell_type": "code",
   "execution_count": 7,
   "metadata": {
    "executionInfo": {
     "elapsed": 499,
     "status": "ok",
     "timestamp": 1731645176424,
     "user": {
      "displayName": "Hangsik Shin",
      "userId": "04632555686962088332"
     },
     "user_tz": -540
    },
    "id": "sMaCwPVGJXX6",
    "tags": []
   },
   "outputs": [],
   "source": [
    "\n",
    "def interactive_chat(chat: ChatSession, question: str) -> str:\n",
    "    \"\"\"\n",
    "    Generate a response from the model.\n",
    "\n",
    "    - chat : ChatSession Chat session object\n",
    "    - prompt : str - The prompt to send to the model.\n",
    "    - returns: str - The generated response.\n",
    "\n",
    "    \"\"\"\n",
    "\n",
    "    # Set model parameter : https://cloud.google.com/vertex-ai/generative-ai/docs/multimodal/send-multimodal-prompts#set_model_parameters\n",
    "    generation_config = {\n",
    "        \"max_output_tokens\": 8192,\n",
    "        \"temperature\": 1,\n",
    "        \"top_p\": 0.95,\n",
    "    }\n",
    "\n",
    "    # Configure satey setting : https://cloud.google.com/vertex-ai/generative-ai/docs/multimodal/configure-safety-attributes\n",
    "    # Refer to the link to remove : https://cloud.google.com/vertex-ai/generative-ai/docs/multimodal/configure-safety-attributes#how_to_remove_automated_response_blocking_for_select_safety_attributes\n",
    "    safety_settings = {\n",
    "        HarmCategory.HARM_CATEGORY_HATE_SPEECH: HarmBlockThreshold.BLOCK_MEDIUM_AND_ABOVE,\n",
    "        HarmCategory.HARM_CATEGORY_DANGEROUS_CONTENT: HarmBlockThreshold.BLOCK_MEDIUM_AND_ABOVE,\n",
    "        HarmCategory.HARM_CATEGORY_SEXUALLY_EXPLICIT: HarmBlockThreshold.BLOCK_MEDIUM_AND_ABOVE,\n",
    "        HarmCategory.HARM_CATEGORY_HARASSMENT: HarmBlockThreshold.BLOCK_MEDIUM_AND_ABOVE,\n",
    "    }\n",
    "\n",
    "    text_response = []\n",
    "\n",
    "    # https://cloud.google.com/python/docs/reference/aiplatform/latest/vertexai.language_models.ChatSession\n",
    "    responses = chat.send_message(\n",
    "        question,\n",
    "        generation_config = generation_config,\n",
    "        safety_settings = safety_settings,\n",
    "        tools = None,\n",
    "        stream=False\n",
    "    )\n",
    "\n",
    "    return responses.text\n",
    "\n",
    "def get_chat_history(chat):\n",
    "\n",
    "  history = \" \".join([content.text for content in chat.history])\n",
    "  print(f\"---------------- Chat history ---------------- \")\n",
    "  print(history)\n",
    "\n"
   ]
  },
  {
   "cell_type": "markdown",
   "metadata": {
    "id": "bGdT-2WHJuXf"
   },
   "source": [
    "## AI Agent"
   ]
  },
  {
   "cell_type": "code",
   "execution_count": 8,
   "metadata": {
    "colab": {
     "base_uri": "https://localhost:8080/",
     "height": 628
    },
    "executionInfo": {
     "elapsed": 124285,
     "status": "ok",
     "timestamp": 1731645344160,
     "user": {
      "displayName": "Hangsik Shin",
      "userId": "04632555686962088332"
     },
     "user_tz": -540
    },
    "id": "ln_Jadw9w0Ew",
    "outputId": "73257cb9-3cb4-4977-abab-4fb4179910b6",
    "tags": []
   },
   "outputs": [
    {
     "name": "stdin",
     "output_type": "stream",
     "text": [
      "사용자:  안녕하세요.\n"
     ]
    },
    {
     "data": {
      "text/markdown": [
       "AI Agent : 안녕하세요! 삼성전자 가전 제품 구매를 도와드릴 AI 어시스턴트입니다. 😊 무엇을 도와드릴까요? \n",
       "\n",
       "어떤 제품에 관심 있으신가요? 혹시 원하는 기능이나 예산이 있으신가요? \n",
       "\n",
       "삼성전자는 다양한 혁신적인 가전 제품들을 제공하고 있습니다. 냉장고, 세탁기, TV, 에어컨 등 다양한 제품 라인업을 갖추고 있으니, 원하시는 제품을 말씀해주세요. 최고의 제품을 찾아드리도록 최선을 다하겠습니다! \n"
      ],
      "text/plain": [
       "<IPython.core.display.Markdown object>"
      ]
     },
     "metadata": {},
     "output_type": "display_data"
    },
    {
     "name": "stdout",
     "output_type": "stream",
     "text": [
      "------------------------------------ \n"
     ]
    },
    {
     "name": "stdin",
     "output_type": "stream",
     "text": [
      "사용자:  과천에서 냉장고는 어디서 사야 하나요 ?\n"
     ]
    },
    {
     "data": {
      "text/markdown": [
       "AI Agent : 과천에서 삼성 냉장고를 구매하시려면 다양한 방법이 있으세요! 😊\n",
       "\n",
       "* **삼성 디지털프라자:** 과천에는 삼성 디지털프라자가 직접 운영하는 매장이 없지만, 가까운 안양, 분당, 수원 등에 위치한 매장에서 다양한 냉장고 모델을 직접 보고 구매하실 수 있습니다. \n",
       "* **온라인 쇼핑몰:** 삼성닷컴, 쿠팡, G마켓, 11번가 등 온라인 쇼핑몰에서도 삼성 냉장고를 편리하게 구매하실 수 있습니다. 빠른 배송과 다양한 할인 혜택을 누릴 수 있다는 장점이 있습니다. \n",
       "* **백화점:** 롯데백화점, 현대백화점 등 과천에 위치한 백화점에서도 삼성 냉장고를 판매하고 있습니다. 백화점에서는 전문 상담과 함께 다양한 브랜드를 비교하며 구매할 수 있습니다.\n",
       "\n",
       "어떤 방법이 가장 편리하신가요? 혹시 원하시는 냉장고 종류나 기능이 있으시면 알려주세요! \n"
      ],
      "text/plain": [
       "<IPython.core.display.Markdown object>"
      ]
     },
     "metadata": {},
     "output_type": "display_data"
    },
    {
     "name": "stdout",
     "output_type": "stream",
     "text": [
      "------------------------------------ \n"
     ]
    },
    {
     "name": "stdin",
     "output_type": "stream",
     "text": [
      "사용자:  종료\n"
     ]
    }
   ],
   "source": [
    "# @title AI Agent\n",
    "\n",
    "chat = model.start_chat()\n",
    "\n",
    "while True:\n",
    "  query = input('사용자: ')\n",
    "\n",
    "  if query == '종료': break\n",
    "\n",
    "  # chat_history = get_chat_history(chat)\n",
    "\n",
    "  prompt = f\"\"\"\n",
    "  당신은 삼성전자 가전 제품의 구매를 도와 주는 AI Assistant 입니다.\n",
    "  아래 질문에 대해서 친절하게 10줄 이내로 답해주세요.\n",
    "  당신은 사용자가 삼성전자 제품을 살수 있도록 도와 줘야 합니다.\n",
    "\n",
    "  질문 : {query}\n",
    "  \"\"\"\n",
    "\n",
    "  response = interactive_chat(chat, prompt)\n",
    "  display(Markdown(f\"AI Agent : {response}\"))\n",
    "  print(f\"------------------------------------ \")"
   ]
  },
  {
   "cell_type": "code",
   "execution_count": null,
   "metadata": {},
   "outputs": [],
   "source": []
  }
 ],
 "metadata": {
  "colab": {
   "authorship_tag": "ABX9TyP7ai7JnEDn6H+X+Je3DFHi",
   "provenance": [
    {
     "file_id": "10QiVBSVRSu69Uhr9OpzX3-8CFvMdG4EZ",
     "timestamp": 1717906152865
    },
    {
     "file_id": "1btZCldJxz-DFxshEjVFBksH3cFZ7ZWzY",
     "timestamp": 1717886695950
    }
   ],
   "toc_visible": true
  },
  "environment": {
   "kernel": "conda-base-py",
   "name": "workbench-notebooks.m126",
   "type": "gcloud",
   "uri": "us-docker.pkg.dev/deeplearning-platform-release/gcr.io/workbench-notebooks:m126"
  },
  "kernelspec": {
   "display_name": "Python 3 (ipykernel) (Local)",
   "language": "python",
   "name": "conda-base-py"
  },
  "language_info": {
   "codemirror_mode": {
    "name": "ipython",
    "version": 3
   },
   "file_extension": ".py",
   "mimetype": "text/x-python",
   "name": "python",
   "nbconvert_exporter": "python",
   "pygments_lexer": "ipython3",
   "version": "3.10.15"
  }
 },
 "nbformat": 4,
 "nbformat_minor": 4
}
