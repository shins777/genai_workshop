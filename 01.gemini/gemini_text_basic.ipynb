{
 "cells": [
  {
   "cell_type": "code",
   "execution_count": null,
   "metadata": {
    "id": "ah6pPVi3o3Tv"
   },
   "outputs": [],
   "source": [
    "# Copyright 2024 Forusone(shins777@gmail.com)\n",
    "#\n",
    "# Licensed under the Apache License, Version 2.0 (the \"License\");\n",
    "# you may not use this file except in compliance with the License.\n",
    "# You may obtain a copy of the License at\n",
    "#\n",
    "#     https://www.apache.org/licenses/LICENSE-2.0\n",
    "#\n",
    "# Unless required by applicable law or agreed to in writing, software\n",
    "# distributed under the License is distributed on an \"AS IS\" BASIS,\n",
    "# WITHOUT WARRANTIES OR CONDITIONS OF ANY KIND, either express or implied.\n",
    "# See the License for the specific language governing permissions and\n",
    "# limitations under the License."
   ]
  },
  {
   "cell_type": "markdown",
   "metadata": {
    "id": "OMY9dNWupHDf"
   },
   "source": [
    "# Gemini basic operation"
   ]
  },
  {
   "cell_type": "markdown",
   "metadata": {
    "id": "FxKgDP_UrZp8"
   },
   "source": [
    "## Set deveopement environment"
   ]
  },
  {
   "cell_type": "markdown",
   "metadata": {
    "id": "M1XFeMQkputY"
   },
   "source": [
    "### Package installation\n",
    "* [google-cloud-aiplatform](https://cloud.google.com/python/docs/reference/aiplatform/latest)"
   ]
  },
  {
   "cell_type": "code",
   "execution_count": 18,
   "metadata": {
    "executionInfo": {
     "elapsed": 4056,
     "status": "ok",
     "timestamp": 1735080730944,
     "user": {
      "displayName": "Hangsik Shin",
      "userId": "04632555686962088332"
     },
     "user_tz": -540
    },
    "id": "u38L4KTfptq5"
   },
   "outputs": [],
   "source": [
    "!pip install --upgrade --quiet google-cloud-aiplatform "
   ]
  },
  {
   "cell_type": "markdown",
   "metadata": {
    "id": "mzXlQ_soqHTu"
   },
   "source": [
    "### Authentication to access to GCP\n",
    "* Only Colab in Google Drive\n",
    "* No need to do this process if in Colab Enteprise on Vertex AI."
   ]
  },
  {
   "cell_type": "code",
   "execution_count": 2,
   "metadata": {
    "executionInfo": {
     "elapsed": 12651,
     "status": "ok",
     "timestamp": 1735077481535,
     "user": {
      "displayName": "Hangsik Shin",
      "userId": "04632555686962088332"
     },
     "user_tz": -540
    },
    "id": "lagyrdCbpykX"
   },
   "outputs": [],
   "source": [
    "# To use markdown for output data from LLM\n",
    "from IPython.display import display, Markdown\n",
    "\n",
    "# Use OAuth to access the GCP environment.\n",
    "import sys\n",
    "if \"google.colab\" in sys.modules:\n",
    "    from google.colab import auth\n",
    "    auth.authenticate_user()"
   ]
  },
  {
   "cell_type": "markdown",
   "metadata": {
    "id": "-yfFoAr9rnem"
   },
   "source": [
    "## Lab Execution"
   ]
  },
  {
   "cell_type": "markdown",
   "metadata": {
    "id": "7eKbcHIyrFUV"
   },
   "source": [
    "### Define contants"
   ]
  },
  {
   "cell_type": "code",
   "execution_count": 4,
   "metadata": {
    "executionInfo": {
     "elapsed": 3,
     "status": "ok",
     "timestamp": 1735077697679,
     "user": {
      "displayName": "Hangsik Shin",
      "userId": "04632555686962088332"
     },
     "user_tz": -540
    },
    "id": "8KRz6TKDrKvX"
   },
   "outputs": [],
   "source": [
    "# Set the environment on GCP Project\n",
    "PROJECT_ID=\"ai-hangsik\"\n",
    "REGION=\"us-central1\"\n",
    "MODEL_NAME=\"gemini-1.5-flash\""
   ]
  },
  {
   "cell_type": "markdown",
   "metadata": {
    "id": "iq5_uivgsFLM"
   },
   "source": [
    "### Import libraries"
   ]
  },
  {
   "cell_type": "code",
   "execution_count": 6,
   "metadata": {
    "executionInfo": {
     "elapsed": 4,
     "status": "ok",
     "timestamp": 1735077934947,
     "user": {
      "displayName": "Hangsik Shin",
      "userId": "04632555686962088332"
     },
     "user_tz": -540
    },
    "id": "639Yybi3sEkl"
   },
   "outputs": [],
   "source": [
    "import vertexai\n",
    "\n",
    "from vertexai.generative_models import (\n",
    "    GenerationConfig,\n",
    "    GenerativeModel,\n",
    "    HarmBlockThreshold,\n",
    "    HarmCategory,\n",
    "    GenerationResponse,\n",
    "    Part,\n",
    ")"
   ]
  },
  {
   "cell_type": "markdown",
   "metadata": {
    "id": "VCYKuZSksMvc"
   },
   "source": [
    "### Initialize Vertex AI"
   ]
  },
  {
   "cell_type": "code",
   "execution_count": 5,
   "metadata": {
    "executionInfo": {
     "elapsed": 6,
     "status": "ok",
     "timestamp": 1735077756122,
     "user": {
      "displayName": "Hangsik Shin",
      "userId": "04632555686962088332"
     },
     "user_tz": -540
    },
    "id": "CC5tEQGPsLu-"
   },
   "outputs": [],
   "source": [
    "# https://cloud.google.com/python/docs/reference/aiplatform/latest#initialization\n",
    "vertexai.init(project=PROJECT_ID, location=REGION)\n",
    "\n",
    "# https://cloud.google.com/vertex-ai/generative-ai/docs/reference/python/latest/vertexai.generative_models.GenerativeModel\n",
    "model = GenerativeModel(MODEL_NAME)"
   ]
  },
  {
   "cell_type": "markdown",
   "metadata": {
    "id": "Xe6p64P7sbAt"
   },
   "source": [
    "### Helper function\n",
    "* def generate(query:str, stream:bool)\n",
    "  * Function to interact with Gemini to generate answer corresponding to query."
   ]
  },
  {
   "cell_type": "code",
   "execution_count": 7,
   "metadata": {
    "executionInfo": {
     "elapsed": 8,
     "status": "ok",
     "timestamp": 1735077937200,
     "user": {
      "displayName": "Hangsik Shin",
      "userId": "04632555686962088332"
     },
     "user_tz": -540
    },
    "id": "u8aW-GqEsXwn"
   },
   "outputs": [],
   "source": [
    "def generate(query:str, stream:bool) -> GenerationResponse:\n",
    "    \"\"\"\n",
    "    Generate a response from the model.\n",
    "    query :query to be sent to the model\n",
    "    Returns:The generated response.\n",
    "    \"\"\"\n",
    "\n",
    "    # Request body : https://cloud.google.com/vertex-ai/generative-ai/docs/model-reference/inference#request\n",
    "    # parameter : https://cloud.google.com/vertex-ai/generative-ai/docs/multimodal/send-multimodal-prompts#set_model_parameters\n",
    "    generation_config = GenerationConfig(\n",
    "        temperature=0.9,\n",
    "        top_p=1.0,\n",
    "        top_k=32,\n",
    "        candidate_count=1,\n",
    "        max_output_tokens=8192,\n",
    "    )\n",
    "\n",
    "    contents = [query]\n",
    "\n",
    "    # Counts tokens\n",
    "    print(f\"Token Count : {model.count_tokens(contents)}\")\n",
    "\n",
    "    # Configure satey setting : https://cloud.google.com/vertex-ai/generative-ai/docs/multimodal/configure-safety-attributes\n",
    "    # Refer to the link to remove : https://cloud.google.com/vertex-ai/generative-ai/docs/multimodal/configure-safety-attributes#how_to_remove_automated_response_blocking_for_select_safety_attributes\n",
    "    safety_settings = {\n",
    "        HarmCategory.HARM_CATEGORY_HARASSMENT: HarmBlockThreshold.BLOCK_LOW_AND_ABOVE,\n",
    "        HarmCategory.HARM_CATEGORY_HATE_SPEECH: HarmBlockThreshold.BLOCK_LOW_AND_ABOVE,\n",
    "        HarmCategory.HARM_CATEGORY_SEXUALLY_EXPLICIT: HarmBlockThreshold.BLOCK_LOW_AND_ABOVE,\n",
    "        HarmCategory.HARM_CATEGORY_DANGEROUS_CONTENT: HarmBlockThreshold.BLOCK_LOW_AND_ABOVE,\n",
    "    }\n",
    "    responses = model.generate_content(\n",
    "        contents,\n",
    "        generation_config=generation_config,\n",
    "        safety_settings=safety_settings,\n",
    "        stream=stream,\n",
    "    )\n",
    "    return responses"
   ]
  },
  {
   "cell_type": "code",
   "execution_count": 17,
   "metadata": {
    "colab": {
     "base_uri": "https://localhost:8080/"
    },
    "executionInfo": {
     "elapsed": 3860,
     "status": "ok",
     "timestamp": 1735078349807,
     "user": {
      "displayName": "Hangsik Shin",
      "userId": "04632555686962088332"
     },
     "user_tz": -540
    },
    "id": "GSc93kSAtFLe",
    "outputId": "d2100740-0716-41eb-e505-864913e70c26"
   },
   "outputs": [
    {
     "name": "stdout",
     "output_type": "stream",
     "text": [
      "Token Count : total_tokens: 125\n",
      "total_billable_characters: 145\n",
      "\n",
      "<generator object _GenerativeModel._generate_content_streaming at 0x7ca9a419b370>\n",
      "생 성 AI 전문가로서 AI의 개념을 명확히 이해 하도록 돕겠습니다.\n",
      "\n",
      "## 생성 AI란 무엇일까요? \n",
      "\n",
      "생성 AI는 새로운 콘텐츠를 생성하는 데 사용되는 인공 지능의 한 유형입니다. 텍스트, 이미지, 오디오,  비디오, 코드 등 다양한 형태의 콘텐츠를 생성할 수 있습니다. 이는 방대한 데이터 세트를 학습하여 생성 AI 모델이  새로운 콘텐츠를 생성하는 방법을 배우기 때문입니다.\n",
      "\n",
      "## 생성 AI와 일반 머신 러닝의 차이점은 무엇인가요?\n",
      "\n",
      "일반 머신 러닝은 주어진 데이터를 기반으로  예측을 수행하는 데 사용됩니다. 예를 들어, 이메일 스팸 여부를 분류하거나 주택 가격을 예측하는 등의 작업을 수행할 수 있습니다. 반면 생성 AI 는 새로운 콘텐츠를 생성하는 데 사용됩니다. 예를 들어, 새로운 음악을 작곡하거나 실제와 흡사한 이미지를 생성할 수 있습니다.\n",
      "\n",
      "간략히 말해서, **일반 머신 러닝은 데이터를 분석하고 예측하는 데 사용되고, 생성 AI는  새로운 콘텐츠를 생성하는 데 사용**됩니다.\n",
      "\n",
      "## 생성 AI를 사용하는 것의 장단점은 무엇일까요?\n",
      "\n",
      "**장점:**\n",
      "\n",
      "* **창의성과 생산성 향상:** 생성 AI는 새로운 아이디어를 생성하고 작업을 자동화하여 창의성 과 생산성을 높일 수 있습니다.\n",
      "* **개인화된 콘텐츠 제공:** 생성 AI는 개인의 선호도에 맞는 콘텐츠를 제공하여 사용자 경험을 향상시킬 수 있습니다.\n",
      "* **비용 절감:** 수동 작업을 자동화하여 비용을  절감하고 효율성을 높일 수 있습니다.\n",
      "* **새로운 형태의 콘텐츠 생성:** 생성 AI는 기존의 방법으로는 생성할 수 없는 새로운 형태의 콘텐츠를 생성할 수 있습니다.\n",
      "\n",
      "**단점:**\n",
      "\n",
      "* **편견과 오류:** 생성 AI 모델 은 훈련 데이터에 존재하는 편견을 반영할 수 있으며, 이로 인해 부정확하거나 차별적인 콘텐츠를 생성할 수 있습니다.\n",
      "* **저작권 문제:** 생성 AI가 생성한 콘텐츠의 저작권 소유권은 복잡하고 논란 의 여지가 있습니다.\n",
      "* **보안 위험:** 생성 AI는 악의적인 목적으로 사용될 수 있으며, 가짜 뉴스나 허위 정보의 생성을 가능하게 할 수 있습니다.\n",
      "* **의존성:** 생성 AI에 너무 의존하면 창의성과 문제 해결  능력이 저하될 수 있습니다.\n",
      "\n",
      "## 주요 산업에서 생성 AI의 사용 사례\n",
      "\n",
      "* **예술 및 엔터테인먼트:** 이미지, 음악, 비디오 생성\n",
      "* **마케팅 및 광고:** 개인화된 콘텐츠 생성\n",
      "* **의 료:** 의료 영상 분석, 신약 개발\n",
      "* **금융:** 금융 데이터 분석, 위험 관리\n",
      "* **제조:** 제품 설계 및 개발\n",
      "* **교육:** 교육 콘텐츠 생성, 개인화된 학습 경험 제공\n",
      "\n",
      "## 마무리\n",
      "\n",
      "생성 AI는  다양한 분야에서 혁신을 일으킬 잠재력이 있지만, 윤리적 및 실용적인 문제를 해결하는 것이 중요합니다. 생성 AI의 장점과 단점을 신중하게 고려하여 책임감 있게 사용하는 것이 중요합니다. Time : 3.855292615000053 seconds\n",
      "\n",
      "\n"
     ]
    }
   ],
   "source": [
    "from time import perf_counter\n",
    "\n",
    "stream = True\n",
    "\n",
    "t1_start = perf_counter()\n",
    "\n",
    "prompt = \"\"\"\n",
    "        당신은 사람들이 AI 개념을 이해하도록 돕는 생성 AI 전문가입니다.\n",
    "        다음 지침에서 AI를 사용하는 것의 장단점을 설명하세요.\n",
    "\n",
    "        1. 생성 AI가 무엇인지 정의하세요.\n",
    "        2. 일반적인 머신 러닝과 생성 AI의 차이점은 무엇인가요?\n",
    "        3. 생성 AI를 사용하는 것의 장단점은 무엇인가요?\n",
    "        4. 주요 산업에서 생성 AI의 사용 사례를 설명하세요.\n",
    "\"\"\"\n",
    "\n",
    "responses = generate(prompt, stream)\n",
    "\n",
    "print(responses)\n",
    "\n",
    "if stream:\n",
    "  for response in responses:\n",
    "    print(response.text, end=\" \")\n",
    "\n",
    "else:\n",
    "\n",
    "  # Print the model response\n",
    "  print(f'\\n Usage metadata:\\n{responses.to_dict().get(\"usage_metadata\")}')\n",
    "  print(f\"\\n Finish reason:\\n{responses.candidates[0].finish_reason}\")\n",
    "  print(f\"\\n Safety settings:\\n{responses.candidates[0].safety_ratings}\")\n",
    "  display(Markdown(responses.text))\n",
    "\n",
    "t1_end  = perf_counter()\n",
    "\n",
    "print(f\"Time : {t1_end - t1_start} seconds\\n\\n\")"
   ]
  }
 ],
 "metadata": {
  "colab": {
   "authorship_tag": "ABX9TyOx0482zRUwdeB1reQqHGpO",
   "provenance": [],
   "toc_visible": true
  },
  "environment": {
   "kernel": "conda-base-py",
   "name": "workbench-notebooks.m126",
   "type": "gcloud",
   "uri": "us-docker.pkg.dev/deeplearning-platform-release/gcr.io/workbench-notebooks:m126"
  },
  "kernelspec": {
   "display_name": "Python 3 (ipykernel) (Local)",
   "language": "python",
   "name": "conda-base-py"
  },
  "language_info": {
   "codemirror_mode": {
    "name": "ipython",
    "version": 3
   },
   "file_extension": ".py",
   "mimetype": "text/x-python",
   "name": "python",
   "nbconvert_exporter": "python",
   "pygments_lexer": "ipython3",
   "version": "3.10.15"
  }
 },
 "nbformat": 4,
 "nbformat_minor": 4
}
